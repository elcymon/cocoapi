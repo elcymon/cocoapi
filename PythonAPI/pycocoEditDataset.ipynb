{
 "cells": [
  {
   "cell_type": "markdown",
   "metadata": {},
   "source": [
    "## FILTERING OBJECT CATEGORIES\n",
    "This notebook shows how to go through the contents of the COCO dataset using it's API to extract all images of the dataset for desired categories. It also provides a means of writing their object boundary boxes to a txt file in the format used by darknet for training and testing."
   ]
  },
  {
   "cell_type": "code",
   "execution_count": null,
   "metadata": {},
   "outputs": [],
   "source": [
    "%matplotlib inline\n",
    "from pycocotools.coco import COCO\n",
    "import numpy as np\n",
    "import skimage.io as io\n",
    "import matplotlib.pyplot as plt\n",
    "import pylab\n",
    "pylab.rcParams['figure.figsize'] = (8.0, 10.0)"
   ]
  },
  {
   "cell_type": "code",
   "execution_count": null,
   "metadata": {},
   "outputs": [],
   "source": [
    "dataDir='..'\n",
    "dataType='val2014'\n",
    "annFile='{}/annotations/instances_{}.json'.format(dataDir,dataType)"
   ]
  },
  {
   "cell_type": "code",
   "execution_count": null,
   "metadata": {},
   "outputs": [],
   "source": [
    "# initialize COCO api for instance annotations\n",
    "coco=COCO(annFile)"
   ]
  },
  {
   "cell_type": "code",
   "execution_count": null,
   "metadata": {},
   "outputs": [],
   "source": [
    "# display COCO categories and supercategories\n",
    "cats = coco.loadCats(coco.getCatIds())\n",
    "nms=[cat['name'] for cat in cats]\n",
    "print('COCO categories: \\n{}\\n'.format(' '.join(nms)))\n",
    "\n",
    "nms = set([cat['supercategory'] for cat in cats])\n",
    "print('COCO supercategories: \\n{}'.format(' '.join(nms)))"
   ]
  },
  {
   "cell_type": "code",
   "execution_count": null,
   "metadata": {},
   "outputs": [],
   "source": [
    "# get all images containing at least one of given categories\n",
    "catNms = ['sheep','bottle']\n",
    "catIds = np.array([coco.getCatIds(catNms=[catNm]) for catNm in catNms])\n",
    "\n",
    "catIdsDict = {k: v for v,k in enumerate(catIds.flatten())}\n",
    "imgIds = []\n",
    "for catId in catIds:\n",
    "    imgIds += coco.getImgIds(catIds=catId );\n",
    "\n",
    "# filter out duplicate images\n",
    "imgIds = list(set(imgIds))\n",
    "\n",
    "imgJSON = coco.loadImgs(imgIds)\n",
    "print('total images: ',len(imgJSON))"
   ]
  },
  {
   "cell_type": "code",
   "execution_count": null,
   "metadata": {},
   "outputs": [],
   "source": [
    "# create destination folder for copying image files\n",
    "destDir = '%s/images/%s/'%(dataDir,dataType + '_' + '_'.join(catNms))\n",
    "destLabelDir = '%s/labels/%s/'%(dataDir,dataType + '_' + '_'.join(catNms))\n",
    "%mkdir {destDir} {destLabelDir}"
   ]
  },
  {
   "cell_type": "code",
   "execution_count": null,
   "metadata": {},
   "outputs": [],
   "source": [
    "import cv2\n",
    "image = cv2.imread('%s/images/%s/%s'%(dataDir,dataType,imgJSON[imgidx]['file_name']))\n",
    "for an in anns:\n",
    "    if an['category_id'] == catIds[0]:\n",
    "        x,y,w,h = [int(i) for i in an['bbox']]\n",
    "#         display(an['bbox'])\n",
    "    cv2.rectangle(image,(x,y),(x+w,y+h),[255,0,0],2)\n",
    "plt.imshow(image)"
   ]
  },
  {
   "cell_type": "code",
   "execution_count": null,
   "metadata": {},
   "outputs": [],
   "source": [
    "# copy all images containing a given categories into a specific folder\n",
    "showBox = False\n",
    "showThis = np.random.randint(len(imgJSON))+1\n",
    "for i,img in enumerate(imgJSON):\n",
    "    \n",
    "    if i == showThis:\n",
    "        showBox = True\n",
    "    print('\\r{} of {}'.format(i,len(imgJSON)),end='')\n",
    "    imgPath = '%s/images/%s/%s'%(dataDir,dataType,img['file_name'])\n",
    "    if showBox:\n",
    "        image = cv2.imread(imgPath)\n",
    "    labelName = destLabelDir + img['file_name'].split('.')[0] + '.txt'\n",
    "    annIds = []\n",
    "    for cID in catIds:\n",
    "        annIds += coco.getAnnIds(imgIds=img['id'],catIds=cID,iscrowd=None)\n",
    "    if len(annIds) == 0:\n",
    "        print('annotation IDS IS EMPTY')\n",
    "        break\n",
    "    anns = coco.loadAnns(annIds)\n",
    "#     print(anns)\n",
    "#     create text file for the labels in a particular photo\n",
    "    with open(labelName,'w+') as f:\n",
    "        for an in anns:\n",
    "#             print(catIdsDict)\n",
    "            if an['category_id'] in catIds.flatten():\n",
    "                if showBox:\n",
    "                    x,y,w,h = [int(i) for i in an['bbox']]\n",
    "                    cv2.rectangle(image,(x,y),(x+w,y+h),[255,0,0],2)\n",
    "                    \n",
    "                labelLine = [str(catIdsDict[an['category_id']]),\n",
    "                                '%.4f' % (an['bbox'][0]/img['width']),\n",
    "                                '%.4f' % (an['bbox'][1]/img['height']),\n",
    "                             '%.4f' % (an['bbox'][2]/img['width']),\n",
    "                             '%.4f' % (an['bbox'][3]/img['height'])]\n",
    "#                 print(labelLine)\n",
    "                labelLine = ','.join(labelLine) + '\\n'\n",
    "#                 print(labelLine)\n",
    "                f.write(labelLine)\n",
    "    if showBox:\n",
    "        print('showThis = ',showThis)\n",
    "        plt.imshow(image)\n",
    "        showBox = False\n",
    "#         break\n",
    "#     copy the desired image into the required folder\n",
    "    %cp {imgPath} {destDir}"
   ]
  }
 ],
 "metadata": {
  "kernelspec": {
   "display_name": "Python 3",
   "language": "python",
   "name": "python3"
  },
  "language_info": {
   "codemirror_mode": {
    "name": "ipython",
    "version": 3
   },
   "file_extension": ".py",
   "mimetype": "text/x-python",
   "name": "python",
   "nbconvert_exporter": "python",
   "pygments_lexer": "ipython3",
   "version": "3.7.2"
  }
 },
 "nbformat": 4,
 "nbformat_minor": 1
}
